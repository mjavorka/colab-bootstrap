{
  "nbformat": 4,
  "nbformat_minor": 0,
  "metadata": {
    "colab": {
      "name": "bootstrap.ipynb",
      "provenance": []
    },
    "kernelspec": {
      "name": "python3",
      "display_name": "Python 3"
    }
  },
  "cells": [
    {
      "cell_type": "markdown",
      "metadata": {
        "id": "1YsGQJdrSmiZ",
        "colab_type": "text"
      },
      "source": [
        "# Project description"
      ]
    },
    {
      "cell_type": "markdown",
      "metadata": {
        "id": "VEI5zSzUSq45",
        "colab_type": "text"
      },
      "source": [
        "Fill the project description here."
      ]
    },
    {
      "cell_type": "markdown",
      "metadata": {
        "id": "xUrx6cPcQ7bh",
        "colab_type": "text"
      },
      "source": [
        "# Install python packages"
      ]
    },
    {
      "cell_type": "code",
      "metadata": {
        "id": "rQ1V1l_MQ_r1",
        "colab_type": "code",
        "colab": {}
      },
      "source": [
        "# !pip3 install <package-name>"
      ],
      "execution_count": 0,
      "outputs": []
    },
    {
      "cell_type": "markdown",
      "metadata": {
        "id": "yNFmYOhrRR2w",
        "colab_type": "text"
      },
      "source": [
        "# Imports"
      ]
    },
    {
      "cell_type": "code",
      "metadata": {
        "id": "qv6IXLjgRTQz",
        "colab_type": "code",
        "colab": {}
      },
      "source": [
        "# Jupyter notebook related\n",
        "%reload_ext autoreload\n",
        "%autoreload 2\n",
        "%matplotlib inline\n",
        "\n",
        "# Built-in modules\n",
        "import sys\n",
        "import os\n",
        "import datetime\n",
        "from enum import Enum\n",
        "from pathlib import Path\n",
        "\n",
        "# Basics of Python data handling and visualization\n",
        "import numpy as np\n",
        "import cv2.cv2 as cv2\n",
        "import matplotlib.pyplot as plt"
      ],
      "execution_count": 0,
      "outputs": []
    },
    {
      "cell_type": "markdown",
      "metadata": {
        "id": "xoYYymxEXhij",
        "colab_type": "text"
      },
      "source": [
        "Specify custom plot size (how big the image is rended)"
      ]
    },
    {
      "cell_type": "code",
      "metadata": {
        "id": "mSZqhJZHXeCN",
        "colab_type": "code",
        "colab": {}
      },
      "source": [
        "plt.rcParams['figure.figsize'] = [20, 10]"
      ],
      "execution_count": 0,
      "outputs": []
    },
    {
      "cell_type": "markdown",
      "metadata": {
        "id": "xJlzffQhRJLl",
        "colab_type": "text"
      },
      "source": [
        "# Google drive"
      ]
    },
    {
      "cell_type": "code",
      "metadata": {
        "id": "VCKgvjZERVWZ",
        "colab_type": "code",
        "colab": {}
      },
      "source": [
        "from google.colab import drive\n",
        "drive.mount('/content/gdrive')\n",
        "\n",
        "GOOGLE_DRIVE_PATH = Path('/content/gdrive/My Drive')\n",
        "WORKDIR = 'data' # specify the path to folder which you are intend to work with in this notebook\n",
        "WORKDIR_PATH = GOOGLE_DRIVE_PATH / WORKDIR\n",
        "\n",
        "if not os.path.exists(WORKDIR_PATH):\n",
        "    os.mkdir(WORKDIR_PATH)"
      ],
      "execution_count": 0,
      "outputs": []
    },
    {
      "cell_type": "markdown",
      "metadata": {
        "id": "JsD1vQaqX37r",
        "colab_type": "text"
      },
      "source": [
        "Render image using openCV and matplotlib"
      ]
    },
    {
      "cell_type": "code",
      "metadata": {
        "id": "cjZMrBXhTTaC",
        "colab_type": "code",
        "colab": {}
      },
      "source": [
        "def show_image(image_path: Path):\n",
        "    image = cv2.imread(str(image_path), cv2.IMREAD_COLOR)\n",
        "    # OpenCV uses BGR by default, convert it to RGB to be rendered properly\n",
        "    rgb_image = cv2.cvtColor(image, cv2.COLOR_BGR2RGB)  \n",
        "    plt.imshow(rgb_image)\n",
        "    plt.show()"
      ],
      "execution_count": 0,
      "outputs": []
    },
    {
      "cell_type": "code",
      "metadata": {
        "id": "ZrhI-S2dYcQj",
        "colab_type": "code",
        "colab": {}
      },
      "source": [
        "image_path = WORKDIR_PATH / 'image.png'\n",
        "show_image(image_path=image_path)"
      ],
      "execution_count": 0,
      "outputs": []
    },
    {
      "cell_type": "markdown",
      "metadata": {
        "id": "9j6pP28rZ-lB",
        "colab_type": "text"
      },
      "source": [
        "Show documentation for specific method"
      ]
    },
    {
      "cell_type": "code",
      "metadata": {
        "id": "i3rwmaB2Z8YO",
        "colab_type": "code",
        "colab": {}
      },
      "source": [
        "cv2.imread??"
      ],
      "execution_count": 0,
      "outputs": []
    }
  ]
}