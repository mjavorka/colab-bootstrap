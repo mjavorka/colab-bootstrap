{
  "nbformat": 4,
  "nbformat_minor": 0,
  "metadata": {
    "colab": {
      "name": "bootstrap.ipynb",
      "provenance": []
    },
    "kernelspec": {
      "name": "python3",
      "display_name": "Python 3"
    }
  },
  "cells": [
    {
      "cell_type": "markdown",
      "metadata": {
        "id": "1YsGQJdrSmiZ",
        "colab_type": "text"
      },
      "source": [
        "# Project description"
      ]
    },
    {
      "cell_type": "markdown",
      "metadata": {
        "id": "VEI5zSzUSq45",
        "colab_type": "text"
      },
      "source": [
        "Fill the project description here."
      ]
    },
    {
      "cell_type": "markdown",
      "metadata": {
        "id": "xUrx6cPcQ7bh",
        "colab_type": "text"
      },
      "source": [
        "# Install python packages"
      ]
    },
    {
      "cell_type": "code",
      "metadata": {
        "id": "rQ1V1l_MQ_r1",
        "colab_type": "code",
        "colab": {}
      },
      "source": [
        "# !pip3 install <package-name>"
      ],
      "execution_count": 0,
      "outputs": []
    },
    {
      "cell_type": "markdown",
      "metadata": {
        "id": "yNFmYOhrRR2w",
        "colab_type": "text"
      },
      "source": [
        "# Imports"
      ]
    },
    {
      "cell_type": "code",
      "metadata": {
        "id": "qv6IXLjgRTQz",
        "colab_type": "code",
        "colab": {}
      },
      "source": [
        "# Jupyter notebook related\n",
        "%reload_ext autoreload\n",
        "%autoreload 2\n",
        "%matplotlib inline\n",
        "\n",
        "# Built-in modules\n",
        "import sys\n",
        "import os\n",
        "import datetime\n",
        "from enum import Enum\n",
        "from pathlib import Path\n",
        "\n",
        "# Basics of Python data handling and visualization\n",
        "import numpy as np\n",
        "import matplotlib.pyplot as plt"
      ],
      "execution_count": 0,
      "outputs": []
    },
    {
      "cell_type": "markdown",
      "metadata": {
        "id": "xJlzffQhRJLl",
        "colab_type": "text"
      },
      "source": [
        "# Google drive"
      ]
    },
    {
      "cell_type": "code",
      "metadata": {
        "id": "VCKgvjZERVWZ",
        "colab_type": "code",
        "colab": {
          "base_uri": "https://localhost:8080/",
          "height": 34
        },
        "outputId": "56fd7b42-8802-4749-bf13-a8b6333f3875"
      },
      "source": [
        "from google.colab import drive\n",
        "drive.mount('/content/gdrive')\n",
        "\n",
        "GOOGLE_DRIVE_PATH = Path('/content/gdrive/My Drive')\n",
        "WORKDIR = 'data' # specify the path to folder which you are intend to work with in this notebook\n",
        "WORKDIR_PATH = GOOGLE_DRIVE_PATH / WORKDIR\n",
        "\n",
        "if not os.path.exists(WORKDIR_PATH):\n",
        "          os.mkdir(WORKDIR_PATH)"
      ],
      "execution_count": 7,
      "outputs": [
        {
          "output_type": "stream",
          "text": [
            "Drive already mounted at /content/gdrive; to attempt to forcibly remount, call drive.mount(\"/content/gdrive\", force_remount=True).\n"
          ],
          "name": "stdout"
        }
      ]
    },
    {
      "cell_type": "code",
      "metadata": {
        "id": "cjZMrBXhTTaC",
        "colab_type": "code",
        "colab": {}
      },
      "source": [
        ""
      ],
      "execution_count": 0,
      "outputs": []
    }
  ]
}