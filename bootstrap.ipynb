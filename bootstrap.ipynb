{
  "nbformat": 4,
  "nbformat_minor": 0,
  "metadata": {
    "colab": {
      "name": "bootstrap.ipynb",
      "provenance": [],
      "collapsed_sections": []
    },
    "kernelspec": {
      "name": "python3",
      "display_name": "Python 3"
    }
  },
  "cells": [
    {
      "cell_type": "markdown",
      "metadata": {
        "id": "1YsGQJdrSmiZ",
        "colab_type": "text"
      },
      "source": [
        "# Project description"
      ]
    },
    {
      "cell_type": "markdown",
      "metadata": {
        "id": "VEI5zSzUSq45",
        "colab_type": "text"
      },
      "source": [
        "Fill the project description here."
      ]
    },
    {
      "cell_type": "markdown",
      "metadata": {
        "id": "xUrx6cPcQ7bh",
        "colab_type": "text"
      },
      "source": [
        "# Install python packages"
      ]
    },
    {
      "cell_type": "code",
      "metadata": {
        "id": "rQ1V1l_MQ_r1",
        "colab_type": "code",
        "colab": {}
      },
      "source": [
        "# !pip3 install <package-name>"
      ],
      "execution_count": 0,
      "outputs": []
    },
    {
      "cell_type": "markdown",
      "metadata": {
        "id": "yNFmYOhrRR2w",
        "colab_type": "text"
      },
      "source": [
        "# Imports"
      ]
    },
    {
      "cell_type": "code",
      "metadata": {
        "id": "qv6IXLjgRTQz",
        "colab_type": "code",
        "colab": {}
      },
      "source": [
        "# Jupyter notebook related\n",
        "%reload_ext autoreload\n",
        "%autoreload 2\n",
        "%matplotlib inline\n",
        "\n",
        "# Built-in modules\n",
        "import sys\n",
        "import os\n",
        "import datetime\n",
        "from enum import Enum\n",
        "from pathlib import Path\n",
        "\n",
        "# Basics of Python data handling and visualization\n",
        "import numpy as np\n",
        "import cv2.cv2 as cv2\n",
        "import matplotlib.pyplot as plt"
      ],
      "execution_count": 0,
      "outputs": []
    },
    {
      "cell_type": "markdown",
      "metadata": {
        "id": "xJlzffQhRJLl",
        "colab_type": "text"
      },
      "source": [
        "# Google drive"
      ]
    },
    {
      "cell_type": "code",
      "metadata": {
        "id": "VCKgvjZERVWZ",
        "colab_type": "code",
        "colab": {}
      },
      "source": [
        "from google.colab import drive\n",
        "drive.mount('/content/gdrive')\n",
        "\n",
        "GOOGLE_DRIVE_PATH = Path('/content/gdrive/My Drive')\n",
        "WORKDIR = 'data' # specify the path to folder which you are intend to work with in this notebook\n",
        "WORKDIR_PATH = GOOGLE_DRIVE_PATH / WORKDIR\n",
        "\n",
        "if not os.path.exists(WORKDIR_PATH):\n",
        "    os.mkdir(WORKDIR_PATH)"
      ],
      "execution_count": 0,
      "outputs": []
    },
    {
      "cell_type": "markdown",
      "metadata": {
        "id": "7paHNWrW1Q1N",
        "colab_type": "text"
      },
      "source": [
        "# Google drive (GUI option)"
      ]
    },
    {
      "cell_type": "markdown",
      "metadata": {
        "id": "bQpKVtrgyvcD",
        "colab_type": "text"
      },
      "source": [
        "\n",
        "\n",
        "To enable Goodle drive open the file browser, and click the 'Mount Drive' button.\n",
        "![Mount Drive](https://i.stack.imgur.com/kc1NW.png)\n",
        "\n",
        "You'll just enable access of the notebook in a permission dialog.\n",
        "![Permission dialog](https://i.stack.imgur.com/scsMQ.png)\n",
        "\n",
        "After you complete the permissions once, you'll see your Drive mounted in the file browser. \n",
        "Better still, if you reload the notebook later and reconnect, your Drive will mount automatically with no more `drive.mount` copy/paste required. Your Drive files will just be there.\n",
        "\n",
        "From [stackoverflow](https://stackoverflow.com/questions/52808143/colab-automatic-authentication-of-connection-to-google-drive/60103029#60103029).\n",
        "\n",
        "Note that the Drive root path is now `/content/drive/My Drive/` compared to `/content/gdrive/My Drive/` when using `drive.mount`."
      ]
    },
    {
      "cell_type": "code",
      "metadata": {
        "id": "64-n0u-301c7",
        "colab_type": "code",
        "colab": {}
      },
      "source": [
        "NEW_DRIVE_PATH = Path('/content/drive/My Drive')"
      ],
      "execution_count": 0,
      "outputs": []
    },
    {
      "cell_type": "markdown",
      "metadata": {
        "id": "xagmLlfF1gkW",
        "colab_type": "text"
      },
      "source": [
        "# Code snippets (eg. form fields)"
      ]
    },
    {
      "cell_type": "markdown",
      "metadata": {
        "id": "l_f3LhCf1mh3",
        "colab_type": "text"
      },
      "source": [
        "Google colaboratory has built-in useful code snippets.\n",
        "For example [forms](https://colab.research.google.com/notebooks/forms.ipynb) which provide an easy way to parameterize code.\n",
        "\n",
        "You can check all of them in `code snippets` tab.\n",
        "![Code snippets](https://i.imgur.com/4isLK8D.png)\n"
      ]
    },
    {
      "cell_type": "markdown",
      "metadata": {
        "id": "8iZrawIie80c",
        "colab_type": "text"
      },
      "source": [
        "# Image visualization"
      ]
    },
    {
      "cell_type": "markdown",
      "metadata": {
        "id": "xoYYymxEXhij",
        "colab_type": "text"
      },
      "source": [
        "Specify custom plot size (how big the image is rendered)\n"
      ]
    },
    {
      "cell_type": "code",
      "metadata": {
        "id": "mSZqhJZHXeCN",
        "colab_type": "code",
        "colab": {}
      },
      "source": [
        "plt.rcParams['figure.figsize'] = [20, 10]"
      ],
      "execution_count": 0,
      "outputs": []
    },
    {
      "cell_type": "markdown",
      "metadata": {
        "id": "JsD1vQaqX37r",
        "colab_type": "text"
      },
      "source": [
        "Render image using openCV and matplotlib\n",
        "\n",
        "```python\n",
        "image_path = WORKDIR_PATH / 'image.png'\n",
        "show_image(image_path=image_path)\n",
        "```"
      ]
    },
    {
      "cell_type": "code",
      "metadata": {
        "id": "cjZMrBXhTTaC",
        "colab_type": "code",
        "colab": {}
      },
      "source": [
        "def show_image(image_path: Path):\n",
        "    image = cv2.imread(str(image_path), cv2.IMREAD_COLOR)\n",
        "    # OpenCV uses BGR by default, convert it to RGB to be rendered properly\n",
        "    rgb_image = cv2.cvtColor(image, cv2.COLOR_BGR2RGB)  \n",
        "    plt.imshow(rgb_image)"
      ],
      "execution_count": 0,
      "outputs": []
    },
    {
      "cell_type": "markdown",
      "metadata": {
        "id": "bb6_Ku93e4tO",
        "colab_type": "text"
      },
      "source": [
        "# Tips and tricks"
      ]
    },
    {
      "cell_type": "markdown",
      "metadata": {
        "id": "9j6pP28rZ-lB",
        "colab_type": "text"
      },
      "source": [
        "Show source code and documentation for specific method"
      ]
    },
    {
      "cell_type": "code",
      "metadata": {
        "id": "i3rwmaB2Z8YO",
        "colab_type": "code",
        "colab": {}
      },
      "source": [
        "cv2.imread??"
      ],
      "execution_count": 0,
      "outputs": []
    },
    {
      "cell_type": "code",
      "metadata": {
        "id": "NAQM4dA8gQ5P",
        "colab_type": "code",
        "colab": {}
      },
      "source": [
        "?cv2.imread"
      ],
      "execution_count": 0,
      "outputs": []
    }
  ]
}